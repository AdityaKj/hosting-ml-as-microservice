{
 "cells": [
  {
   "cell_type": "markdown",
   "metadata": {},
   "source": [
    "<a href=\"https://colab.research.google.com/github/peckjon/hosting-ml-as-microservice/blob/master/part1/score_reviews_via_service.ipynb\" target=\"_parent\"><img src=\"https://colab.research.google.com/assets/colab-badge.svg\" alt=\"Open In Colab\"/></a>"
   ]
  },
  {
   "cell_type": "code",
   "execution_count": null,
   "metadata": {
    "collapsed": false,
    "pycharm": {
     "name": "#%%\n"
    }
   },
   "outputs": [],
   "source": [
    "from nltk import download\n",
    "\n",
    "# get the sample corpus\n",
    "download('movie_reviews')"
   ]
  },
  {
   "cell_type": "code",
   "execution_count": null,
   "metadata": {
    "collapsed": false
   },
   "outputs": [],
   "source": [
    "from nltk.corpus import movie_reviews\n",
    "\n",
    "# extract words from reviews, pair with label\n",
    "reviews = {'pos':[],'neg':[]}\n",
    "for sentiment in ['pos','neg']:\n",
    "    for fileid in movie_reviews.fileids(sentiment):\n",
    "        review = movie_reviews.raw(fileid)\n",
    "        reviews[sentiment].append(review)"
   ]
  },
  {
   "cell_type": "code",
   "execution_count": null,
   "metadata": {
    "collapsed": false
   },
   "outputs": [],
   "source": [
    "def score_review(review):\n",
    "    # TBD: call service to score the review\n",
    "    return 'pos'"
   ]
  },
  {
   "cell_type": "code",
   "execution_count": null,
   "metadata": {
    "collapsed": true
   },
   "outputs": [],
   "source": [
    "# loop over reviews and score each\n",
    "results = {'pos':[],'neg':[]}\n",
    "for sentiment in ['pos','neg']:\n",
    "    for review in reviews[sentiment]:\n",
    "        result = score_review(review)\n",
    "        results[sentiment].append(result)"
   ]
  },
  {
   "cell_type": "code",
   "execution_count": null,
   "metadata": {
    "collapsed": false
   },
   "outputs": [],
   "source": [
    "# check results against known labels\n",
    "correct_pos = results['pos'].count('pos')\n",
    "accuracy_pos = float(correct_pos) / len(results['pos'])\n",
    "correct_neg = results['neg'].count('neg')\n",
    "accuracy_neg = float(correct_neg) / len(results['neg'])\n",
    "correct_all = correct_pos + correct_neg\n",
    "accuracy_all = float(correct_all) / (len(results['pos'])+len(results['neg']))\n",
    "\n",
    "print('Positive reviews: {}% correct').format(accuracy_pos*100)\n",
    "print('Negative reviews: {}% correct').format(accuracy_neg*100)\n",
    "print('Overall accuracy: {}% correct').format(accuracy_all*100)"
   ]
  },
  {
   "cell_type": "code",
   "execution_count": null,
   "metadata": {
    "collapsed": true
   },
   "outputs": [],
   "source": []
  },
  {
   "cell_type": "code",
   "execution_count": null,
   "metadata": {
    "collapsed": true
   },
   "outputs": [],
   "source": []
  }
 ],
 "metadata": {
  "anaconda-cloud": {},
  "kernelspec": {
   "display_name": "Python 3",
   "language": "python",
   "name": "python3"
  },
  "language_info": {
   "codemirror_mode": {
    "name": "ipython",
    "version": 2
   },
   "file_extension": ".py",
   "mimetype": "text/x-python",
   "name": "python",
   "nbconvert_exporter": "python",
   "pygments_lexer": "ipython2",
   "version": "2.7.12"
  },
  "pycharm": {
   "stem_cell": {
    "cell_type": "raw",
    "metadata": {
     "collapsed": false
    },
    "source": []
   }
  }
 },
 "nbformat": 4,
 "nbformat_minor": 1
}
